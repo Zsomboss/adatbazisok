{
 "cells": [
  {
   "cell_type": "code",
   "execution_count": null,
   "metadata": {},
   "outputs": [],
   "source": [
    "\n",
    "1.Listázzuk azon vendégek nevét, email-címét és felhasználói nevét, akik egynél többször foglaltak!\n",
    "\n",
    "Hagyjuk ki azokat a vendégeket, akik május hónapban születtek!\n",
    "Válaszszöveg 1 kérdés\n",
    "Rich text szerkesztő\n"
   ]
  },
  {
   "cell_type": "code",
   "execution_count": null,
   "metadata": {},
   "outputs": [],
   "source": [
    "SELECT V.NEV, V.EMAIL, V.USERNEV\n",
    "FROM VENDEG V\n",
    "JOIN FOGLALAS F ON V.USERNEV = F.UGYFEL_FK\n",
    "WHERE MONTH(V.SZUL_DAT) <> 5\n",
    "GROUP BY V.NEV, V.EMAIL, V.USERNEV\n",
    "HAVING COUNT(F.FOGLALAS_PK) > 1;"
   ]
  },
  {
   "attachments": {},
   "cell_type": "markdown",
   "metadata": {},
   "source": [
    "2.Listázzuk azon szálláshelyek azonosítóját és nevét, amelyek a saját helyükön (HELY) a legtöbb csillaggal rendelkeznek!"
   ]
  },
  {
   "cell_type": "code",
   "execution_count": null,
   "metadata": {},
   "outputs": [],
   "source": [
    "SELECT sz.SZALLAS_ID, sz.SZALLAS_NEV\n",
    "FROM Szallashely sz\n",
    "JOIN \n",
    "    (SELECT \n",
    "         HELY,\n",
    "         MAX(CSILLAGOK_SZAMA) AS max_csillagok\n",
    "     FROM \n",
    "         Szallashely\n",
    "     WHERE\n",
    "         CSILLAGOK_SZAMA > 0\n",
    "     GROUP BY \n",
    "         HELY) max_szallas ON sz.HELY = max_szallas.HELY AND sz.CSILLAGOK_SZAMA = max_szallas.max_csillagok"
   ]
  },
  {
   "attachments": {},
   "cell_type": "markdown",
   "metadata": {},
   "source": [
    "3.Jelenítsük meg, hogy az egyes szálláshelyek szobáit esetén a legutolsó 5 foglalás átlagosan hány főre történt!\n",
    "\n",
    "A számításnál vegyük figyelembe a felnőtteket és a gyermekeket is\n",
    "A foglalás dátumánál a METTOL mezőt használjuk\n",
    "\n"
   ]
  },
  {
   "cell_type": "code",
   "execution_count": null,
   "metadata": {},
   "outputs": [],
   "source": [
    "WITH UtolsoOT AS (\n",
    "    SELECT \n",
    "        SZOBA_FK, \n",
    "        GYERMEK_SZAM + FELNOTT_SZAM AS OSSZESEN,\n",
    "        ROW_NUMBER() OVER (PARTITION BY SZOBA_FK ORDER BY METTOL DESC) AS f\n",
    "    FROM FOGLALAS )\n",
    "SELECT \n",
    "    SZOBA_FK, \n",
    "    AVG(OSSZESEN) AS ATLAGOSAN\n",
    "FROM UtolsoOT\n",
    "WHERE f <= 5\n",
    "GROUP BY SZOBA_FK;"
   ]
  },
  {
   "attachments": {},
   "cell_type": "markdown",
   "metadata": {},
   "source": [
    "4.Készítsen lekérdezést, amely megjeleníti, hogy szálláshelyenként, azon belül a pótágyak száma szerint hány főre foglaltak összesen (felnőtt + gyermek)!\n",
    "\n",
    "Jelenjenek meg a részösszegek és a végösszeg is!\n"
   ]
  },
  {
   "cell_type": "code",
   "execution_count": null,
   "metadata": {},
   "outputs": [],
   "source": [
    "SELECT \n",
    "    SZALLASHELY.SZALLAS_NEV,\n",
    "    SZOBA.POTAGY,\n",
    "    SUM(FOGLALAS.FELNOTT_SZAM + FOGLALAS.GYERMEK_SZAM) AS OSSZES_FO\n",
    "FROM \n",
    "    SZALLASHELY\n",
    "JOIN \n",
    "    SZOBA ON SZALLASHELY.SZALLAS_ID = SZOBA.SZALLAS_FK\n",
    "JOIN \n",
    "    FOGLALAS ON SZOBA.SZOBA_SZAMA = FOGLALAS.SZOBA_FK\n",
    "GROUP BY \n",
    "    ROLLUP(SZALLASHELY.SZALLAS_NEV, SZOBA.POTAGY);\n",
    "\n"
   ]
  },
  {
   "attachments": {},
   "cell_type": "markdown",
   "metadata": {},
   "source": [
    "5.A Szoba tábla Ferohely oszlopára végezzük el a következő számításokat:\n",
    "\n",
    "Különböző értékek száma\n",
    "Minimum, maximum, átlag\n",
    "Null és Not null értékek százalékos aránya"
   ]
  },
  {
   "cell_type": "code",
   "execution_count": null,
   "metadata": {},
   "outputs": [],
   "source": [
    "SELECT \n",
    "    COUNT(DISTINCT FEROHELY) AS KulonbozoErtekek,\n",
    "    MIN(FEROHELY) AS Minimum,\n",
    "    MAX(FEROHELY) AS Maximum,\n",
    "    AVG(FEROHELY) AS Atlag,\n",
    "    (COUNT(FEROHELY) * 100.0 / COUNT(*)) AS NemNullaSzázalék,\n",
    "    ((COUNT(*) - COUNT(FEROHELY)) * 100.0 / COUNT(*)) AS NullaSzázalék\n",
    "FROM \n",
    "    SZOBA;\n"
   ]
  },
  {
   "attachments": {},
   "cell_type": "markdown",
   "metadata": {},
   "source": [
    "6.Valósítsa meg REDIS-ben a következő táblákat:\n",
    "\n",
    "IRO(ID, nev, nemzetiseg)\n",
    "KONYV(ID, cim, mufaj, IRO_ID)\n",
    "Vigyen fel táblánként legalább 2-2 sornyi adatot!"
   ]
  },
  {
   "cell_type": "code",
   "execution_count": null,
   "metadata": {},
   "outputs": [],
   "source": [
    "HSET IRO:1 ID 1 nev \"József Attila\" nemzetiseg \"Magyar\"\n",
    "HSET IRO:2 ID 2 nev \"Petőfi Sándor\" nemzetiseg \"Magyar\"\n",
    "HSET KONYV:1 ID 1 cim \"Harry Potter\" mufaj \"Kaland\" IRO_ID 1\n",
    "HSET KONYV:2 ID 2 cim \"Dune\" mufaj \"Sci-fi\" IRO_ID 2"
   ]
  },
  {
   "attachments": {},
   "cell_type": "markdown",
   "metadata": {},
   "source": [
    "7.Cassandra CQL Shellben hozza létre a következő táblát:\n",
    "\n",
    "STUDENT(ID, Nev, Teljesitett_felevek, Eredmenyek, Nyelvtudas)\n",
    "\n",
    "Az ID legyen az elsődleges kulcs\n",
    "A Teljesitett félévek legyen LIST, tartalma egész számok, pl: 1, 2, 3\n",
    "Az Eredmenyek legyen MAP, tartalma, hogy melyik félévben mennyi volt az átlag, pl: 1: 3,00, 2: 4.55, 3: 4,10\n",
    "A Nyelvtudas legyen SET, tartalma a nyelvek megnevezése\n",
    "Vigyen fel legalább 2 rekordot!"
   ]
  },
  {
   "cell_type": "code",
   "execution_count": null,
   "metadata": {},
   "outputs": [],
   "source": [
    "CREATE TABLE STUDENT (\n",
    "    ID int PRIMARY KEY,\n",
    "    Nev text,\n",
    "    Teljesitett_felevek list<int>,\n",
    "    Eredmenyek map<int, float>,\n",
    "    Nyelvtudas set<text>\n",
    ");"
   ]
  },
  {
   "cell_type": "code",
   "execution_count": null,
   "metadata": {},
   "outputs": [],
   "source": [
    "INSERT INTO STUDENT (ID, Nev, Teljesitett_felevek, Eredmenyek, Nyelvtudas) \n",
    "VALUES (1, 'John Doe', [1, 2, 3], {1: 3.00, 2: 4.55, 3: 4.10}, {'English'});\n",
    "\n",
    "INSERT INTO STUDENT (ID, Nev, Teljesitett_felevek, Eredmenyek, Nyelvtudas) \n",
    "VALUES (2, 'Péter Zsombor', [1, 2, 3, 4], {1: 3.75, 2: 3.85, 3: 4.25, 4: 3.95}, {'Hungarian', 'French'});"
   ]
  },
  {
   "attachments": {},
   "cell_type": "markdown",
   "metadata": {},
   "source": [
    "8.A Neo4j Sandbox-ban vagy a Desktopban jelenítsük meg azon személyeket, akik egy filmben szerepeltek Tom Hanks-sel.\n",
    "\n",
    "Egy szereplő neve csak egyszer jelenjen meg\n",
    "Tom Hanks ne legyen benne a listában"
   ]
  },
  {
   "cell_type": "code",
   "execution_count": null,
   "metadata": {},
   "outputs": [],
   "source": [
    "MATCH (p1:Person)-[:ACTED_IN]->(:Movie)<-[:ACTED_IN]-(p2:Person)\n",
    "WHERE p1.name = 'Tom Hanks' AND p1 <> p2\n",
    "RETURN DISTINCT p2.name AS Színész"
   ]
  }
 ],
 "metadata": {
  "language_info": {
   "name": "python"
  },
  "orig_nbformat": 4
 },
 "nbformat": 4,
 "nbformat_minor": 2
}
