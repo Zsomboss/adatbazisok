{
    "metadata": {
        "kernelspec": {
            "name": "SQL",
            "display_name": "SQL",
            "language": "sql"
        },
        "language_info": {
            "name": "sql",
            "version": ""
        }
    },
    "nbformat_minor": 2,
    "nbformat": 4,
    "cells": [
        {
            "cell_type": "code",
            "source": [
                "--1.feladat\r\n",
                "SELECT count(*) AS 'Foglalások száma' \r\n",
                "FROM Foglalas \r\n",
                "WHERE YEAR(METTOL)=YEAR(MEDDIG) AND MONTH(METTOL)<>MONTH(MEDDIG)"
            ],
            "metadata": {
                "azdata_cell_guid": "81bda8b3-1c35-4730-abae-39d7d09374bd",
                "language": "sql"
            },
            "outputs": [
                {
                    "output_type": "display_data",
                    "data": {
                        "text/html": "(1 row affected)"
                    },
                    "metadata": {}
                },
                {
                    "output_type": "display_data",
                    "data": {
                        "text/html": "Total execution time: 00:00:00.007"
                    },
                    "metadata": {}
                },
                {
                    "output_type": "execute_result",
                    "metadata": {},
                    "execution_count": 2,
                    "data": {
                        "application/vnd.dataresource+json": {
                            "schema": {
                                "fields": [
                                    {
                                        "name": "Foglalások száma"
                                    }
                                ]
                            },
                            "data": [
                                {
                                    "Foglalások száma": "131"
                                }
                            ]
                        },
                        "text/html": [
                            "<table>",
                            "<tr><th>Foglalások száma</th></tr>",
                            "<tr><td>131</td></tr>",
                            "</table>"
                        ]
                    }
                }
            ],
            "execution_count": 2
        },
        {
            "cell_type": "code",
            "source": [
                "--2.feladat\r\n",
                "SELECT sh.tipus, ROUND(AVG(sh.csillagok_szama), 0) AS 'átlagos csillagszám'\r\n",
                "FROM Szallashely AS sh \r\n",
                "WHERE sh.tipus <> 'Panzió' \r\n",
                "GROUP BY sh.tipus \r\n",
                "HAVING ROUND(AVG(sh.csillagok_szama), 0) >= 3"
            ],
            "metadata": {
                "azdata_cell_guid": "e9478cae-a226-456c-8816-7a4fc933a982",
                "language": "sql",
                "tags": []
            },
            "outputs": [
                {
                    "output_type": "display_data",
                    "data": {
                        "text/html": "(1 row affected)"
                    },
                    "metadata": {}
                },
                {
                    "output_type": "display_data",
                    "data": {
                        "text/html": "Total execution time: 00:00:00.009"
                    },
                    "metadata": {}
                },
                {
                    "output_type": "execute_result",
                    "metadata": {},
                    "execution_count": 8,
                    "data": {
                        "application/vnd.dataresource+json": {
                            "schema": {
                                "fields": [
                                    {
                                        "name": "tipus"
                                    },
                                    {
                                        "name": "átlagos csillagszám"
                                    }
                                ]
                            },
                            "data": [
                                {
                                    "tipus": "Hotel",
                                    "átlagos csillagszám": "3"
                                }
                            ]
                        },
                        "text/html": [
                            "<table>",
                            "<tr><th>tipus</th><th>átlagos csillagszám</th></tr>",
                            "<tr><td>Hotel</td><td>3</td></tr>",
                            "</table>"
                        ]
                    }
                }
            ],
            "execution_count": 8
        },
        {
            "cell_type": "code",
            "source": [
                "--3.feladat\r\n",
                "SELECT sh.SZALLAS_NEV, COUNT(f.FOGLALAS_PK) AS 'foglalásszám'\r\n",
                "FROM Foglalas AS f JOIN Szoba AS sz ON f.SZOBA_FK = sz.SZOBA_ID\r\n",
                "JOIN Szallashely sh ON sz.SZALLAS_FK = sh.SZALLAS_ID\r\n",
                "\r\n",
                ""
            ],
            "metadata": {
                "azdata_cell_guid": "9d23ed02-9e5c-4d34-93ed-f0d927c3a28a",
                "language": "sql"
            },
            "outputs": [
{
    "output_type": "error",
    "evalue": "Msg 8120, Level 16, State 1, Line 2\r\nColumn 'Szallashely.SZALLAS_NEV' is invalid in the select list because it is not contained in either an aggregate function or the GROUP BY clause.",
    "ename": "",
    "traceback": []
}, {
    "output_type": "display_data",
    "data": {
        "text/html": "Total execution time: 00:00:00.002"
    },
    "metadata": {}
}
],
            "execution_count": 11
        }
    ]
}