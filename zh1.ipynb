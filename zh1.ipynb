{
    "metadata": {
        "kernelspec": {
            "name": "SQL",
            "display_name": "SQL",
            "language": "sql"
        },
        "language_info": {
            "name": "sql",
            "version": ""
        }
    },
    "nbformat_minor": 2,
    "nbformat": 4,
    "cells": [
        {
            "cell_type": "code",
            "source": [
                "--1.feladat\r\n",
                "SELECT count(*) AS 'Foglalások száma' \r\n",
                "FROM Foglalas \r\n",
                "WHERE YEAR(METTOL)=YEAR(MEDDIG) AND MONTH(METTOL)<>MONTH(MEDDIG)"
            ],
            "metadata": {
                "azdata_cell_guid": "81bda8b3-1c35-4730-abae-39d7d09374bd",
                "language": "sql"
            },
            "outputs": [
                {
                    "output_type": "display_data",
                    "data": {
                        "text/html": "(1 row affected)"
                    },
                    "metadata": {}
                },
                {
                    "output_type": "display_data",
                    "data": {
                        "text/html": "Total execution time: 00:00:00.007"
                    },
                    "metadata": {}
                },
                {
                    "output_type": "execute_result",
                    "metadata": {},
                    "execution_count": 2,
                    "data": {
                        "application/vnd.dataresource+json": {
                            "schema": {
                                "fields": [
                                    {
                                        "name": "Foglalások száma"
                                    }
                                ]
                            },
                            "data": [
                                {
                                    "Foglalások száma": "131"
                                }
                            ]
                        },
                        "text/html": [
                            "<table>",
                            "<tr><th>Foglalások száma</th></tr>",
                            "<tr><td>131</td></tr>",
                            "</table>"
                        ]
                    }
                }
            ],
            "execution_count": 2
        },
        {
            "cell_type": "code",
            "source": [
                "--2.feladat\r\n",
                "SELECT sh.tipus, ROUND(AVG(sh.csillagok_szama), 0) AS 'átlagos csillagszám'\r\n",
                "FROM Szallashely AS sh \r\n",
                "WHERE sh.tipus <> 'Panzió' \r\n",
                "GROUP BY sh.tipus \r\n",
                "HAVING ROUND(AVG(sh.csillagok_szama), 0) >= 3"
            ],
            "metadata": {
                "azdata_cell_guid": "e9478cae-a226-456c-8816-7a4fc933a982",
                "language": "sql",
                "tags": []
            },
            "outputs": [
                {
                    "output_type": "display_data",
                    "data": {
                        "text/html": "(1 row affected)"
                    },
                    "metadata": {}
                },
                {
                    "output_type": "display_data",
                    "data": {
                        "text/html": "Total execution time: 00:00:00.009"
                    },
                    "metadata": {}
                },
                {
                    "output_type": "execute_result",
                    "metadata": {},
                    "execution_count": 8,
                    "data": {
                        "application/vnd.dataresource+json": {
                            "schema": {
                                "fields": [
                                    {
                                        "name": "tipus"
                                    },
                                    {
                                        "name": "átlagos csillagszám"
                                    }
                                ]
                            },
                            "data": [
                                {
                                    "tipus": "Hotel",
                                    "átlagos csillagszám": "3"
                                }
                            ]
                        },
                        "text/html": [
                            "<table>",
                            "<tr><th>tipus</th><th>átlagos csillagszám</th></tr>",
                            "<tr><td>Hotel</td><td>3</td></tr>",
                            "</table>"
                        ]
                    }
                }
            ],
            "execution_count": 8
        },
        {
            "cell_type": "code",
            "source": [
                "--3.feladat\r\n",
                "SELECT sh.SZALLAS_NEV, COUNT(f.FOGLALAS_PK) AS 'foglalásszám'\r\n",
                "FROM Foglalas AS f JOIN Szoba AS sz ON f.SZOBA_FK = sz.SZOBA_ID\r\n",
                "JOIN Szallashely sh ON sz.SZALLAS_FK = sh.SZALLAS_ID\r\n",
                "GROUP BY sh.SZALLAS_NEV\r\n",
                ""
            ],
            "metadata": {
                "azdata_cell_guid": "9d23ed02-9e5c-4d34-93ed-f0d927c3a28a",
                "language": "sql",
                "tags": []
            },
            "outputs": [
                {
                    "output_type": "display_data",
                    "data": {
                        "text/html": "(11 rows affected)"
                    },
                    "metadata": {}
                },
                {
                    "output_type": "display_data",
                    "data": {
                        "text/html": "Total execution time: 00:00:00.008"
                    },
                    "metadata": {}
                },
                {
                    "output_type": "execute_result",
                    "metadata": {},
                    "execution_count": 13,
                    "data": {
                        "application/vnd.dataresource+json": {
                            "schema": {
                                "fields": [
                                    {
                                        "name": "SZALLAS_NEV"
                                    },
                                    {
                                        "name": "foglalásszám"
                                    }
                                ]
                            },
                            "data": [
                                {
                                    "SZALLAS_NEV": "Szieszta Apartmanház",
                                    "foglalásszám": "34"
                                },
                                {
                                    "SZALLAS_NEV": "Fortuna Panzió",
                                    "foglalásszám": "126"
                                },
                                {
                                    "SZALLAS_NEV": "Kentaur Hotel",
                                    "foglalásszám": "179"
                                },
                                {
                                    "SZALLAS_NEV": "Partiszél Vendégház",
                                    "foglalásszám": "26"
                                },
                                {
                                    "SZALLAS_NEV": "Sába-Ház",
                                    "foglalásszám": "70"
                                },
                                {
                                    "SZALLAS_NEV": "Családi Ház",
                                    "foglalásszám": "18"
                                },
                                {
                                    "SZALLAS_NEV": "Fortuna Apartman",
                                    "foglalásszám": "39"
                                },
                                {
                                    "SZALLAS_NEV": "Hotel Három Hattyú",
                                    "foglalásszám": "204"
                                },
                                {
                                    "SZALLAS_NEV": "Jáde panzió",
                                    "foglalásszám": "29"
                                },
                                {
                                    "SZALLAS_NEV": "Lagúna Hotel",
                                    "foglalásszám": "123"
                                },
                                {
                                    "SZALLAS_NEV": "Gold Hotel",
                                    "foglalásszám": "179"
                                }
                            ]
                        },
                        "text/html": [
                            "<table>",
                            "<tr><th>SZALLAS_NEV</th><th>foglalásszám</th></tr>",
                            "<tr><td>Szieszta Apartmanház</td><td>34</td></tr>",
                            "<tr><td>Fortuna Panzió</td><td>126</td></tr>",
                            "<tr><td>Kentaur Hotel</td><td>179</td></tr>",
                            "<tr><td>Partiszél Vendégház</td><td>26</td></tr>",
                            "<tr><td>Sába-Ház</td><td>70</td></tr>",
                            "<tr><td>Családi Ház</td><td>18</td></tr>",
                            "<tr><td>Fortuna Apartman</td><td>39</td></tr>",
                            "<tr><td>Hotel Három Hattyú</td><td>204</td></tr>",
                            "<tr><td>Jáde panzió</td><td>29</td></tr>",
                            "<tr><td>Lagúna Hotel</td><td>123</td></tr>",
                            "<tr><td>Gold Hotel</td><td>179</td></tr>",
                            "</table>"
                        ]
                    }
                }
            ],
            "execution_count": 13
        },
        {
            "cell_type": "code",
            "source": [
                ""
            ],
            "metadata": {
                "azdata_cell_guid": "85fad031-eaa5-4468-8358-e799712afc97",
                "language": "sql"
            },
            "outputs": [],
            "execution_count": null
        }
    ]
}