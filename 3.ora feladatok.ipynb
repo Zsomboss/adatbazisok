{
    "metadata": {
        "kernelspec": {
            "name": "SQL",
            "display_name": "SQL",
            "language": "sql"
        },
        "language_info": {
            "name": "sql",
            "version": ""
        }
    },
    "nbformat_minor": 2,
    "nbformat": 4,
    "cells": [
        {
            "cell_type": "code",
            "source": [
                "SELECT  UGYFEL_FK, SZOBA_FK,\r\n",
                "        IIF(MONTH(mettol) IN (6,7,8), 'Igen', 'Nem') AS 'NYar'\r\n",
                "From Foglalas\r\n",
                "WHERE UGYFEL_FK = 'laszlo_2' And GYERMEK_SZAM = 0"
            ],
            "metadata": {
                "azdata_cell_guid": "198f80ff-3088-40c3-81ed-b8d2e3a97def",
                "language": "sql"
            },
            "outputs": [
                {
                    "output_type": "display_data",
                    "data": {
                        "text/html": "(0 rows affected)"
                    },
                    "metadata": {}
                },
                {
                    "output_type": "display_data",
                    "data": {
                        "text/html": "Total execution time: 00:00:00.005"
                    },
                    "metadata": {}
                },
                {
                    "output_type": "execute_result",
                    "metadata": {},
                    "execution_count": 6,
                    "data": {
                        "application/vnd.dataresource+json": {
                            "schema": {
                                "fields": [
                                    {
                                        "name": "UGYFEL_FK"
                                    },
                                    {
                                        "name": "SZOBA_FK"
                                    },
                                    {
                                        "name": "NYar"
                                    }
                                ]
                            },
                            "data": []
                        },
                        "text/html": [
                            "<table>",
                            "<tr><th>UGYFEL_FK</th><th>SZOBA_FK</th><th>NYar</th></tr>",
                            "</table>"
                        ]
                    }
                }
            ],
            "execution_count": 6
        },
        {
            "cell_type": "code",
            "source": [
                "SELECT szh.TIPUS, YEAR(f.METTOL) AS 'Év', MONTH(f.METTOL) AS 'Hónap', Count(*)\r\n",
                " \r\n",
                "\r\n",
                " FROM Foglalas f JOIN Szoba sz ON f.SZOBA_FK = sz.SZOBA_ID \r\n",
                "\r\n",
                "                              JOIN Szallashely szh ON sz.SZALLAS_FK = szh.SZALLAS_ID\r\n",
                "\r\n",
                " \r\n",
                "\r\n",
                "WHERE DATEDIFF(DAY, f.METTOL, f.MEDDIG) >=5 \r\n",
                "\r\n",
                "GROUP BY szh.TIPUS, YEAR(f.MEDDIG), MONTH(f.METTOL)"
            ],
            "metadata": {
                "azdata_cell_guid": "e84dbde7-5769-459a-a6be-19b6870f9fe1",
                "language": "sql"
            },
            "outputs": [
                {
                    "output_type": "error",
                    "evalue": "Msg 8120, Level 16, State 1, Line 1\r\nColumn 'Foglalas.METTOL' is invalid in the select list because it is not contained in either an aggregate function or the GROUP BY clause.",
                    "ename": "",
                    "traceback": []
                },
                {
                    "output_type": "display_data",
                    "data": {
                        "text/html": "Total execution time: 00:00:00.002"
                    },
                    "metadata": {}
                }
            ],
            "execution_count": 8
        }
    ]
}